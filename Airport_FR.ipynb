{
 "cells": [
  {
   "cell_type": "code",
   "execution_count": 18,
   "id": "8afc8788",
   "metadata": {},
   "outputs": [],
   "source": [
    "import pandas as pd\n",
    "import folium\n",
    "\n",
    "# Read data from CSV file\n",
    "data = pd.read_csv('data.csv')\n",
    "\n",
    "# Create a map\n",
    "m = folium.Map(location=[data['Latitude'].mean(), data['Longitude'].mean()], zoom_start=6)\n",
    "\n",
    "# Add markers to the map for each location in the data\n",
    "for i in range(0, len(data)):\n",
    "    folium.CircleMarker([data.iloc[i]['Latitude'], data.iloc[i]['Longitude']], \n",
    "    radius=5,\n",
    "    color='red',\n",
    "    fill='true',\n",
    "    fill_color='red',\n",
    "    popup=data.iloc[i]['Airport Name']).add_to(m)\n",
    "\n",
    "# Display the map\n",
    "m\n",
    "\n",
    "# Save map to HTML File\n",
    "m.save(\"map_FR_airports.html\")"
   ]
  },
  {
   "cell_type": "code",
   "execution_count": null,
   "id": "f72bc5b2",
   "metadata": {},
   "outputs": [],
   "source": []
  }
 ],
 "metadata": {
  "kernelspec": {
   "display_name": "Python 3 (ipykernel)",
   "language": "python",
   "name": "python3"
  },
  "language_info": {
   "codemirror_mode": {
    "name": "ipython",
    "version": 3
   },
   "file_extension": ".py",
   "mimetype": "text/x-python",
   "name": "python",
   "nbconvert_exporter": "python",
   "pygments_lexer": "ipython3",
   "version": "3.11.2"
  }
 },
 "nbformat": 4,
 "nbformat_minor": 5
}
